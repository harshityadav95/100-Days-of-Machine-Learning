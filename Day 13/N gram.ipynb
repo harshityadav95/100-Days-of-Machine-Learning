{
 "cells": [
  {
   "cell_type": "markdown",
   "metadata": {},
   "source": [
    "# Ngram\n",
    "\n",
    "- An N-gram model uses the previous N-1 words to predict the next one:\n",
    "P(wn | wn -1)\n",
    "Dealing with P(\\\\<word\\\\> | \\\\<some prefix\\\\>\")\n",
    "\n",
    "- unigrams: P(student)\n",
    "- bigrams:  P(student | clever)\n",
    "- trigrams: P(student | the clever)\n",
    "- quadrigrams: P(student | the clever honest)"
   ]
  },
  {
   "cell_type": "code",
   "execution_count": 1,
   "metadata": {},
   "outputs": [],
   "source": [
    "# program to calculate N-gram\n",
    "\n",
    "#calculating the number of individual tokens"
   ]
  },
  {
   "cell_type": "code",
   "execution_count": 15,
   "metadata": {},
   "outputs": [
    {
     "name": "stdout",
     "output_type": "stream",
     "text": [
      "Enter the Number of Strings2\n",
      "Enter the String<s> sam i do like </s>\n",
      "Enter the String<s> do i like sam </s>\n",
      "Total number of TOKENS : 6\n",
      "<s> :2\n",
      "sam :2\n",
      "i :2\n",
      "do :2\n",
      "like :2\n",
      "</s> :2\n",
      "['<s> sam i do like </s>', '<s> do i like sam </s>']\n"
     ]
    },
    {
     "data": {
      "text/html": [
       "<table><tr><td><h4>#</h4><td><td><h4><s></h4><td><td><h4>sam</h4><td><td><h4>i</h4><td><td><h4>do</h4><td><td><h4>like</h4><td><td><h4></s></h4><td></tr><tr><td><h4><s></h4><td><td><h4>0.0</h4><td><td><h4>0.0</h4><td><td><h4>0.0</h4><td><td><h4>0.0</h4><td><td><h4>0.0</h4><td><td><h4>0.0</h4><td></tr><tr><td><h4>sam</h4><td><td><h4>0.5</h4><td><td><h4>0.0</h4><td><td><h4>0.0</h4><td><td><h4>0.0</h4><td><td><h4>0.5</h4><td><td><h4>0.0</h4><td></tr><tr><td><h4>i</h4><td><td><h4>0.0</h4><td><td><h4>0.5</h4><td><td><h4>0.0</h4><td><td><h4>0.5</h4><td><td><h4>0.0</h4><td><td><h4>0.0</h4><td></tr><tr><td><h4>do</h4><td><td><h4>0.5</h4><td><td><h4>0.0</h4><td><td><h4>0.5</h4><td><td><h4>0.0</h4><td><td><h4>0.0</h4><td><td><h4>0.0</h4><td></tr><tr><td><h4>like</h4><td><td><h4>0.0</h4><td><td><h4>0.0</h4><td><td><h4>0.5</h4><td><td><h4>0.5</h4><td><td><h4>0.0</h4><td><td><h4>0.0</h4><td></tr><tr><td><h4></s></h4><td><td><h4>0.0</h4><td><td><h4>0.5</h4><td><td><h4>0.0</h4><td><td><h4>0.0</h4><td><td><h4>0.5</h4><td><td><h4>0.0</h4><td></tr></table>"
      ],
      "text/plain": [
       "<IPython.core.display.HTML object>"
      ]
     },
     "metadata": {},
     "output_type": "display_data"
    },
    {
     "name": "stdout",
     "output_type": "stream",
     "text": [
      "+---+---+---+---+---+---+---+\n",
      "| # | <s> | sam | i | do | like | </s> |\n",
      "+---+---+---+---+---+---+---+\n",
      "| <s> | 0.0 | 0.0 | 0.0 | 0.0 | 0.0 | 0.0 |\n",
      "+---+---+---+---+---+---+---+\n",
      "| sam | 0.5 | 0.0 | 0.0 | 0.0 | 0.5 | 0.0 |\n",
      "+---+---+---+---+---+---+---+\n",
      "| i | 0.0 | 0.5 | 0.0 | 0.5 | 0.0 | 0.0 |\n",
      "+---+---+---+---+---+---+---+\n",
      "| do | 0.5 | 0.0 | 0.5 | 0.0 | 0.0 | 0.0 |\n",
      "+---+---+---+---+---+---+---+\n",
      "| like | 0.0 | 0.0 | 0.5 | 0.5 | 0.0 | 0.0 |\n",
      "+---+---+---+---+---+---+---+\n",
      "| </s> | 0.0 | 0.5 | 0.0 | 0.0 | 0.5 | 0.0 |\n",
      "+---+---+---+---+---+---+---+\n"
     ]
    }
   ],
   "source": [
    "from IPython.display import HTML, display\n",
    "\n",
    "\n",
    "def display_table(data):\n",
    "    html = \"<table>\"\n",
    "    for row in data:\n",
    "        html += \"<tr>\"\n",
    "        for field in row:\n",
    "            html += \"<td><h4>%s</h4><td>\"%(field)\n",
    "        html += \"</tr>\"\n",
    "    html += \"</table>\"\n",
    "    display(HTML(html))\n",
    "\n",
    "\n",
    "\n",
    "\n",
    "number_of_strings=0\n",
    "number_of_strings=int(input(\"Enter the Number of Strings\"))\n",
    "d={}\n",
    "library=[]\n",
    "for i in range(0,number_of_strings):\n",
    "    string=input(\"Enter the String\")\n",
    "    library.append(string)\n",
    "    l=string.split(\" \")\n",
    "\n",
    "    for j in l:\n",
    "        tmp=j.lower()\n",
    "        if tmp not in d:\n",
    "            d[tmp]=1\n",
    "        else:\n",
    "            d[tmp]=d[tmp]+1\n",
    "print(\"Total number of TOKENS :\",len(d))\n",
    "for i in d:\n",
    "    print(str(i)+\" :\"+str(d[i]))\n",
    "    \n",
    "#print(library)\n",
    "li=[]\n",
    "for i in d:\n",
    "    li.append(i)\n",
    "\n",
    "# creating the rows and columns\n",
    "data_grid=[[0 for i in range(len(d)+1)] for j in range(len(d)+1)] \n",
    "data_grid[0][0]=\"#\"\n",
    "for i in range(1,len(d)+1):\n",
    "    data_grid[0][i]=li[i-1]\n",
    "for i in range(1,len(d)+1):\n",
    "    data_grid[i][0]=li[i-1]\n",
    "\n",
    "\n",
    "\n",
    "print(library)\n",
    "for i in range(1,len(d)+1):\n",
    "    a=li[i-1]\n",
    "    for j in range(1,len(d)+1):\n",
    "        b=li[j-1]\n",
    "        for k in library:\n",
    "            brk=k.split(\" \")\n",
    "            for l in range(len(brk)):\n",
    "                if brk[l]==b:\n",
    "                    if l+1 < len(brk):\n",
    "                        if brk[l+1]==a:\n",
    "                            data_grid[i][j]+=1\n",
    "\n",
    "                    \n",
    "for i in range(1,len(d)+1):\n",
    "    for j in range(1,len(d)+1):\n",
    "        b=li[j-1]\n",
    "        a=d[b]\n",
    "        data_grid[i][j]/=a\n",
    "prob=0\n",
    "display_table(data_grid)\n",
    "\n",
    "\n",
    "\n",
    "    \n"
   ]
  },
  {
   "cell_type": "markdown",
   "metadata": {},
   "source": [
    "# "
   ]
  }
 ],
 "metadata": {
  "kernelspec": {
   "display_name": "Python 3",
   "language": "python",
   "name": "python3"
  },
  "language_info": {
   "codemirror_mode": {
    "name": "ipython",
    "version": 3
   },
   "file_extension": ".py",
   "mimetype": "text/x-python",
   "name": "python",
   "nbconvert_exporter": "python",
   "pygments_lexer": "ipython3",
   "version": "3.7.6"
  }
 },
 "nbformat": 4,
 "nbformat_minor": 4
}
