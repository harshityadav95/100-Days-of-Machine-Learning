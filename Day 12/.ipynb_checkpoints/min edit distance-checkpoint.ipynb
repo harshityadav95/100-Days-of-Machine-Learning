{
 "cells": [
  {
   "cell_type": "code",
   "execution_count": null,
   "metadata": {},
   "outputs": [],
   "source": []
  },
  {
   "cell_type": "code",
   "execution_count": 144,
   "metadata": {},
   "outputs": [
    {
     "name": "stdout",
     "output_type": "stream",
     "text": [
      "Enter the Source :intention\n",
      "Enter the Output :execution\n",
      "Distance is : 8\n",
      "[8, 8, 8, 8, 8, 6, 5, 4, 3, 3, 2, 1, 0]\n"
     ]
    },
    {
     "data": {
      "text/html": [
       "<table><tr><td><h4>n</h4><td><td><h4>9</h4><td><td><h4>8</h4><td><td><h4>9</h4><td><td><h4>10</h4><td><td><h4>11</h4><td><td><h4>12</h4><td><td><h4>11</h4><td><td><h4>10</h4><td><td><h4>9</h4><td><td><h4>8*</h4><td></tr><tr><td><h4>o</h4><td><td><h4>8</h4><td><td><h4>7</h4><td><td><h4>8</h4><td><td><h4>9</h4><td><td><h4>10</h4><td><td><h4>11</h4><td><td><h4>10</h4><td><td><h4>9</h4><td><td><h4>8*</h4><td><td><h4>9</h4><td></tr><tr><td><h4>i</h4><td><td><h4>7</h4><td><td><h4>6</h4><td><td><h4>7</h4><td><td><h4>8</h4><td><td><h4>9</h4><td><td><h4>10</h4><td><td><h4>9</h4><td><td><h4>8*</h4><td><td><h4>9</h4><td><td><h4>10</h4><td></tr><tr><td><h4>t</h4><td><td><h4>6</h4><td><td><h4>5</h4><td><td><h4>6</h4><td><td><h4>7</h4><td><td><h4>8</h4><td><td><h4>9</h4><td><td><h4>8*</h4><td><td><h4>9</h4><td><td><h4>10</h4><td><td><h4>11</h4><td></tr><tr><td><h4>n</h4><td><td><h4>5</h4><td><td><h4>4</h4><td><td><h4>5</h4><td><td><h4>6</h4><td><td><h4>7</h4><td><td><h4>8*</h4><td><td><h4>9</h4><td><td><h4>10</h4><td><td><h4>11</h4><td><td><h4>10</h4><td></tr><tr><td><h4>e</h4><td><td><h4>4</h4><td><td><h4>3*</h4><td><td><h4>4*</h4><td><td><h4>5*</h4><td><td><h4>6*</h4><td><td><h4>7</h4><td><td><h4>8</h4><td><td><h4>9</h4><td><td><h4>10</h4><td><td><h4>9</h4><td></tr><tr><td><h4>t</h4><td><td><h4>3*</h4><td><td><h4>4</h4><td><td><h4>5</h4><td><td><h4>6</h4><td><td><h4>7</h4><td><td><h4>8</h4><td><td><h4>7</h4><td><td><h4>8</h4><td><td><h4>9</h4><td><td><h4>8</h4><td></tr><tr><td><h4>n</h4><td><td><h4>2*</h4><td><td><h4>3</h4><td><td><h4>4</h4><td><td><h4>5</h4><td><td><h4>6</h4><td><td><h4>7</h4><td><td><h4>8</h4><td><td><h4>7</h4><td><td><h4>8</h4><td><td><h4>7</h4><td></tr><tr><td><h4>i</h4><td><td><h4>1*</h4><td><td><h4>2</h4><td><td><h4>3</h4><td><td><h4>4</h4><td><td><h4>5</h4><td><td><h4>6</h4><td><td><h4>7</h4><td><td><h4>6</h4><td><td><h4>7</h4><td><td><h4>8</h4><td></tr><tr><td><h4>#</h4><td><td><h4>0*</h4><td><td><h4>1</h4><td><td><h4>2</h4><td><td><h4>3</h4><td><td><h4>4</h4><td><td><h4>5</h4><td><td><h4>6</h4><td><td><h4>7</h4><td><td><h4>8</h4><td><td><h4>9</h4><td></tr><tr><td><h4>#</h4><td><td><h4>#</h4><td><td><h4>e</h4><td><td><h4>x</h4><td><td><h4>e</h4><td><td><h4>c</h4><td><td><h4>u</h4><td><td><h4>t</h4><td><td><h4>i</h4><td><td><h4>o</h4><td><td><h4>n</h4><td></tr></table>"
      ],
      "text/plain": [
       "<IPython.core.display.HTML object>"
      ]
     },
     "metadata": {},
     "output_type": "display_data"
    }
   ],
   "source": [
    "from IPython.display import HTML, display\n",
    "\n",
    "def display_table(data):\n",
    "    html = \"<table>\"\n",
    "    for row in data:\n",
    "        html += \"<tr>\"\n",
    "        for field in row:\n",
    "            html += \"<td><h4>%s</h4><td>\"%(field)\n",
    "        html += \"</tr>\"\n",
    "    html += \"</table>\"\n",
    "    display(HTML(html))\n",
    "\n",
    "#source=\"intention\"\n",
    "#output=\"execution\"\n",
    "source=str(input(\"Enter the Source :\"))\n",
    "output=str(input(\"Enter the Output :\"))\n",
    "del_cost=2\n",
    "ins_cost=1\n",
    "sub_cost=1\n",
    "\n",
    "\n",
    "source_len=len(source)\n",
    "output_len=len(output)\n",
    "target_lst=[]\n",
    "source_lst=[]\n",
    "for i in source:\n",
    "    source_lst.append(i.lower())\n",
    "for i in output:\n",
    "    target_lst.append(i.lower())\n",
    "\n",
    "source_lst.reverse()    \n",
    "    \n",
    "the_grid=[[0 for i in range(output_len+2)] for j in range(source_len+2)] \n",
    "\n",
    "# marking the #\n",
    "the_grid[source_len][0]='#'\n",
    "the_grid[source_len+1][0]='#'\n",
    "the_grid[source_len+1][1]='#'\n",
    "\n",
    "\n",
    "\n",
    "# inputing the  output\n",
    "for i in range(output_len):\n",
    "    the_grid[source_len+1][i+2]=target_lst[i]\n",
    "    \n",
    "# inputing the source\n",
    "for i in reversed(range(source_len)):\n",
    "    the_grid[i][0]=source_lst[i]\n",
    "\n",
    "v=0\n",
    "for i in range (output_len+1):\n",
    "    the_grid[-2][i+1]=v\n",
    "    v+=1\n",
    "    \n",
    "v=0\n",
    "\n",
    "for i in reversed(range(source_len+1)):\n",
    "    the_grid[i][1]=v\n",
    "    v+=1\n",
    "    \n",
    "\n",
    "\n",
    "for i in reversed(range(source_len)): \n",
    "    for j in range(2,output_len+2):\n",
    "        if(the_grid[i][0]==the_grid[-1][j]):\n",
    "            val=0\n",
    "        else:\n",
    "            val=2\n",
    "        #print(\"value of i \",i)\n",
    "        #print(\"value of j \",j)\n",
    "        #print(the_grid[i+1][j])\n",
    "        #print(the_grid[i][j-1])\n",
    "        #print(the_grid[i+1][j-1])\n",
    "        #print(min(the_grid[i+1][j]+1,the_grid[i][j-1]+1,the_grid[i+1][j-1]+val))\n",
    "        the_grid[i][j]=min(the_grid[i+1][j]+1,the_grid[i][j-1]+1,the_grid[i+1][j-1]+val)\n",
    "        #display_table(the_grid)\n",
    "\n",
    "        #a=input(\"Paused for waiting\")\n",
    "    \n",
    "    \n",
    "#display_table(the_grid)\n",
    "print(\"Distance is :\",the_grid[0][-1])\n",
    "\n",
    "the_grid[-2][1]=-1\n",
    "target_lst.append('#')\n",
    "source_lst.append('#')\n",
    "#calculating the path\n",
    "i=0\n",
    "j=-1\n",
    "path=[]\n",
    "while(the_grid[i][j]!=-1):\n",
    "    val=int(the_grid[i][j])\n",
    "    #the_grid[i][j]=\"0\"\n",
    "    path.append(val)\n",
    "    a=0\n",
    "    b=0\n",
    "    #print(path)\n",
    "    #print(the_grid[i][j-1])\n",
    "    #print(the_grid[i+1][j-1])\n",
    "    #print(the_grid[i+1][j])\n",
    "    the_grid[i][j]=str(the_grid[i][j])+\"*\"\n",
    "    if( the_grid[i][j-1] not in source_lst and the_grid[i][j-1] not in target_lst):\n",
    "        if(int(the_grid[i][j-1])<=val ):\n",
    "            #the_grid[i][j]=str(val)+str(\"*\")\n",
    "            val=int(the_grid[i][j-1])\n",
    "            a=i\n",
    "            b=j-1\n",
    "    if(the_grid[i+1][j-1] not in source_lst and the_grid[i+1][j-1] not in target_lst):\n",
    "        if(int(the_grid[i+1][j-1])<=val):\n",
    "            #the_grid[i][j]=str(val)+str(\"*\")\n",
    "            val=int(the_grid[i+1][j-1])\n",
    "            a=i+1\n",
    "            b=j-1\n",
    "    if(the_grid[i+1][j] not in source_lst and the_grid[i+1][j] not in target_lst):\n",
    "        if(int(the_grid[i+1][j])<=val):\n",
    "            #the_grid[i][j]=str(val)+str(\"*\")\n",
    "            val=int(the_grid[i+1][j])\n",
    "            a=i+1\n",
    "            b=j\n",
    "            \n",
    "    i=a\n",
    "    j=b\n",
    "the_grid[-2][1]=\"0*\"\n",
    "path.append(0)\n",
    "print(path)\n",
    "display_table(the_grid)       \n"
   ]
  },
  {
   "cell_type": "code",
   "execution_count": null,
   "metadata": {},
   "outputs": [],
   "source": []
  },
  {
   "cell_type": "code",
   "execution_count": null,
   "metadata": {},
   "outputs": [],
   "source": []
  },
  {
   "cell_type": "code",
   "execution_count": null,
   "metadata": {},
   "outputs": [],
   "source": [
    "a"
   ]
  },
  {
   "cell_type": "code",
   "execution_count": null,
   "metadata": {},
   "outputs": [],
   "source": []
  },
  {
   "cell_type": "code",
   "execution_count": null,
   "metadata": {},
   "outputs": [],
   "source": []
  },
  {
   "cell_type": "code",
   "execution_count": null,
   "metadata": {},
   "outputs": [],
   "source": []
  }
 ],
 "metadata": {
  "kernelspec": {
   "display_name": "Python 3",
   "language": "python",
   "name": "python3"
  },
  "language_info": {
   "codemirror_mode": {
    "name": "ipython",
    "version": 3
   },
   "file_extension": ".py",
   "mimetype": "text/x-python",
   "name": "python",
   "nbconvert_exporter": "python",
   "pygments_lexer": "ipython3",
   "version": "3.7.6"
  }
 },
 "nbformat": 4,
 "nbformat_minor": 4
}
