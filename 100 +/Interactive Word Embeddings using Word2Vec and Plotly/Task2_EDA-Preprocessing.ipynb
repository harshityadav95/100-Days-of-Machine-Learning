{
 "cells": [
  {
   "cell_type": "markdown",
   "metadata": {},
   "source": [
    "# Interactive Recommendation System with Word Embeddings using Word2Vec, Plotly, and NetworkX\n",
    "\n",
    "## Project Breakdown\n",
    "- Task 1: Introduction\n",
    "- Task 2: Exploratory Data Analysis and Preprocessing (you are here)\n",
    "- Task 3: Word2Vec with Gensim\n",
    "- Task 4: Exploring Results\n",
    "- Task 5: Building and Visualizing Interactive Network Graph\n",
    "\n",
    "## Task 2: Exploratory Data Analysis and Preprocessing\n",
    "\n",
    "[This is the dataset](https://eightportions.com/datasets/Recipes/#fn:1) we will be using. It is collated by Ryan Lee, sourced from [Food Network](https://www.foodnetwork.com/), [Epicurious](https://www.epicurious.com/), and [Allrecipes](https://www.allrecipes.com/)."
   ]
  },
  {
   "cell_type": "code",
   "execution_count": 1,
   "metadata": {},
   "outputs": [],
   "source": [
    "from gensim.parsing.preprocessing import remove_stopwords\n",
    "from tqdm import tqdm\n",
    "import pandas as pd\n",
    "import pickle\n",
    "import string\n",
    "import json"
   ]
  },
  {
   "cell_type": "code",
   "execution_count": 2,
   "metadata": {},
   "outputs": [],
   "source": [
    "recipe_sources = ['ar', 'epi', 'fn']"
   ]
  },
  {
   "cell_type": "code",
   "execution_count": 11,
   "metadata": {},
   "outputs": [],
   "source": [
    "df = pd.DataFrame()\n",
    "sources, titles, ingredients, instructions = [], [], [], []\n",
    "for recipe_source in recipe_sources:\n",
    "    data = json.load(open(f'Data/Dataset/recipes_raw_nosource_{recipe_source}.json', 'r'))\n",
    "    for _, recipe in data.items():\n",
    "        if ('title' in recipe) and ('ingredients' in recipe) and ('instructions' in recipe):\n",
    "            # append to a list of the source\n",
    "            sources.append(recipe_source)\n",
    "            # append to a list of the titles\n",
    "            titles.append(recipe['title'])\n",
    "            \n",
    "            # append to a list of a list of ingredients, removing the word ADVERTISEMENT\n",
    "            ingredients.append([str(ingredient).replace('ADVERTISMENT','') for ingredient in recipe['ingredients']])\n",
    "            # append to a silst of instructions, remmoving the word ADVERTISEMENT and replace \\n with space characters\n",
    "            instructions.append(str(recipe['instructions']).replace('ADVERTISMENT','').replace('\\n',' '))\n",
    "df['source'] = sources\n",
    "df['title'] = titles\n",
    "df['ingredients'] = ingredients\n",
    "df['instructions'] = instructions"
   ]
  },
  {
   "cell_type": "code",
   "execution_count": 16,
   "metadata": {},
   "outputs": [],
   "source": [
    "to_remove = [\n",
    "    'tablespoon',\n",
    "    'tablespoons',\n",
    "    'teaspoon',\n",
    "    'teaspoons',\n",
    "    'tsp',\n",
    "    'tsps',\n",
    "    'tbsp',\n",
    "    'tbsps',\n",
    "    'pound',\n",
    "    'pounds',\n",
    "    'grams',\n",
    "    'mg',\n",
    "    'ounce'\n",
    "    'ounces',\n",
    "    'kg',\n",
    "    'crushed',\n",
    "    'chopped',\n",
    "    'finely',\n",
    "    'softened',\n",
    "    'cups',\n",
    "    'cup'\n",
    "]\n",
    "translation_table=str.maketrans('','',string.punctuation+string.digits)"
   ]
  },
  {
   "cell_type": "code",
   "execution_count": 17,
   "metadata": {},
   "outputs": [],
   "source": [
    "def preprocess(items):\n",
    "    # fill me in!\n",
    "    res=[]\n",
    "    for i, item in enumerate(items):\n",
    "        temp=item.lower().replace('-','')\n",
    "        temp=temp.translate(translation_table)\n",
    "        temp=remove_stopwords(temp)\n",
    "        for stop_word in to_remove:\n",
    "            temp=temp.replace(stop_word,'')\n",
    "        res.append(temp.split())\n",
    "    return res"
   ]
  },
  {
   "cell_type": "code",
   "execution_count": 21,
   "metadata": {},
   "outputs": [],
   "source": [
    "instructions=df.instructions.values.tolist()\n",
    "ingredients=[','.join(x) for x in df.ingredients.values.tolist()]\n"
   ]
  },
  {
   "cell_type": "code",
   "execution_count": 22,
   "metadata": {},
   "outputs": [],
   "source": [
    "train_data=preprocess(instructions+ingredients)"
   ]
  },
  {
   "cell_type": "code",
   "execution_count": 25,
   "metadata": {},
   "outputs": [],
   "source": [
    "with open('Data/train_data.pkl','wb') as f:\n",
    "    pickle.dump(train_data,f)\n",
    "    "
   ]
  },
  {
   "cell_type": "code",
   "execution_count": null,
   "metadata": {},
   "outputs": [],
   "source": []
  }
 ],
 "metadata": {
  "kernelspec": {
   "display_name": "Python 3",
   "language": "python",
   "name": "python3"
  },
  "language_info": {
   "codemirror_mode": {
    "name": "ipython",
    "version": 3
   },
   "file_extension": ".py",
   "mimetype": "text/x-python",
   "name": "python",
   "nbconvert_exporter": "python",
   "pygments_lexer": "ipython3",
   "version": "3.6.9"
  }
 },
 "nbformat": 4,
 "nbformat_minor": 4
}
