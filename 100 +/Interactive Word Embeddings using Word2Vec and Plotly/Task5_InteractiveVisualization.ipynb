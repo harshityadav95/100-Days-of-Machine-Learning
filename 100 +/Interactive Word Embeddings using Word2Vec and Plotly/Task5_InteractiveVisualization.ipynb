{
 "cells": [
  {
   "cell_type": "markdown",
   "metadata": {},
   "source": [
    "# Interactive Recommendation System with Word Embeddings using Word2Vec, Plotly, and NetworkX\n",
    "\n",
    "## Project Breakdown\n",
    "- Task 1: Introduction\n",
    "- Task 2: Exploratory Data Analysis and Preprocessing\n",
    "- Task 3: Word2Vec with Gensim\n",
    "- Task 4: Exploring Results\n",
    "- Task 5: Building and Visualizing Interactive Network Graph (you are here)\n",
    "\n",
    "## Task 5: Building and Visualizing Interactive Network Graph\n",
    "Let's see if we can visualize our results better!"
   ]
  },
  {
   "cell_type": "code",
   "execution_count": 1,
   "metadata": {},
   "outputs": [],
   "source": [
    "from sklearn.metrics.pairwise import cosine_similarity\n",
    "import plotly.graph_objects as go\n",
    "from plotly.offline import plot\n",
    "import networkx as nx\n",
    "import numpy as np"
   ]
  },
  {
   "cell_type": "code",
   "execution_count": 2,
   "metadata": {},
   "outputs": [],
   "source": [
    "words=np.loadtxt('Data/words.txt',dtype=str)\n",
    "vectors=np.load('Data/vectors.npy')"
   ]
  },
  {
   "cell_type": "code",
   "execution_count": 3,
   "metadata": {},
   "outputs": [],
   "source": [
    "sims=cosine_similarity(vectors,vectors)\n"
   ]
  },
  {
   "cell_type": "code",
   "execution_count": 11,
   "metadata": {},
   "outputs": [],
   "source": [
    "for i in range(len(vectors)):\n",
    "    for j in range(len(vectors)):\n",
    "        if i<=j:\n",
    "            sims[i,j]=False\n",
    "            \n",
    "            "
   ]
  },
  {
   "cell_type": "code",
   "execution_count": 14,
   "metadata": {},
   "outputs": [
    {
     "data": {
      "text/plain": [
       "array([18, 16])"
      ]
     },
     "execution_count": 14,
     "metadata": {},
     "output_type": "execute_result"
    }
   ],
   "source": [
    "indices=np.argwhere(sims>0.65)\n",
    "indices[0]"
   ]
  },
  {
   "cell_type": "code",
   "execution_count": 15,
   "metadata": {},
   "outputs": [],
   "source": [
    "G=nx.Graph()\n",
    "for index in indices:\n",
    "    G.add_edge(words[index[0]],words[index[1]],weight=sims[index[0],\n",
    "                                                           index[1]])"
   ]
  },
  {
   "cell_type": "code",
   "execution_count": 24,
   "metadata": {},
   "outputs": [
    {
     "data": {
      "text/plain": [
       "0.7623753"
      ]
     },
     "execution_count": 24,
     "metadata": {},
     "output_type": "execute_result"
    }
   ],
   "source": [
    "weight_values=nx.get_edge_attributes(G,'weight')\n",
    "weight_values[('egg','eggs')]"
   ]
  },
  {
   "cell_type": "code",
   "execution_count": 25,
   "metadata": {},
   "outputs": [],
   "source": [
    "positions=nx.spring_layout(G)\n",
    "#positions\n"
   ]
  },
  {
   "cell_type": "code",
   "execution_count": 28,
   "metadata": {},
   "outputs": [],
   "source": [
    "nx.set_node_attributes(G,name='position', values=positions)\n",
    "#add search items here in the list below to highlight them in putput\n",
    "searches=[]"
   ]
  },
  {
   "cell_type": "code",
   "execution_count": null,
   "metadata": {},
   "outputs": [],
   "source": []
  },
  {
   "cell_type": "code",
   "execution_count": 29,
   "metadata": {},
   "outputs": [],
   "source": [
    "edge_x = []\n",
    "edge_y = []\n",
    "weights = []\n",
    "ave_x, ave_y = [], []\n",
    "for edge in G.edges():\n",
    "    x0, y0 = G.nodes[edge[0]]['position']\n",
    "    x1, y1 = G.nodes[edge[1]]['position']\n",
    "    edge_x.append(x0)\n",
    "    edge_x.append(x1)\n",
    "    edge_x.append(None)\n",
    "    edge_y.append(y0)\n",
    "    edge_y.append(y1)\n",
    "    edge_y.append(None)\n",
    "    ave_x.append(np.mean([x0, x1]))\n",
    "    ave_y.append(np.mean([y0, y1]))\n",
    "    weights.append(f'{edge[0]}, {edge[1]}: {weight_values[(edge[0], edge[1])]}')\n",
    "\n",
    "edge_trace = go.Scatter(\n",
    "    x=edge_x, y=edge_y,\n",
    "    opacity=0.7,\n",
    "    line=dict(width=2, color='White'),\n",
    "    hoverinfo='text',\n",
    "    mode='lines')\n",
    "\n",
    "edge_trace.text = weights\n",
    "\n",
    "\n",
    "node_x = []\n",
    "node_y = []\n",
    "sizes = []\n",
    "for node in G.nodes():\n",
    "    x, y = G.nodes[node]['position']\n",
    "    node_x.append(x)\n",
    "    node_y.append(y)\n",
    "    if node in searches:\n",
    "        sizes.append(50)\n",
    "    else:\n",
    "        sizes.append(15)\n",
    "\n",
    "node_trace = go.Scatter(\n",
    "    x=node_x, y=node_y,\n",
    "    mode='markers',\n",
    "    hoverinfo='text',\n",
    "    marker=dict(\n",
    "        showscale=True,\n",
    "        line=dict(color='White'),\n",
    "        # colorscale options\n",
    "        #'Greys' | 'YlGnBu' | 'Greens' | 'YlOrRd' | 'Bluered' | 'RdBu' |\n",
    "        #'Reds' | 'Blues' | 'Picnic' | 'Rainbow' | 'Portland' | 'Jet' |\n",
    "        #'Hot' | 'Blackbody' | 'Earth' | 'Electric' | 'Viridis' |\n",
    "        colorscale='Picnic',\n",
    "        reversescale=False,\n",
    "        color=[],\n",
    "        opacity=0.9,\n",
    "        size=sizes,\n",
    "        colorbar=dict(\n",
    "            thickness=15,\n",
    "            title='Node Connections',\n",
    "            xanchor='left',\n",
    "            titleside='right'\n",
    "        ),\n",
    "        line_width=2\n",
    "    )\n",
    ")\n",
    "\n",
    "invisible_similarity_trace = go.Scatter(\n",
    "    x=ave_x, y=ave_y,\n",
    "    mode='markers',\n",
    "    hoverinfo='text',\n",
    "    marker=dict(\n",
    "        color=[],\n",
    "        opacity=0,\n",
    "    )\n",
    ")\n",
    "\n",
    "invisible_similarity_trace.text=weights"
   ]
  },
  {
   "cell_type": "code",
   "execution_count": 30,
   "metadata": {},
   "outputs": [],
   "source": [
    "node_adjacencies = []\n",
    "node_text = []\n",
    "for node, adjacencies in enumerate(G.adjacency()):\n",
    "    node_adjacencies.append(len(adjacencies[1]))\n",
    "    node_text.append(adjacencies[0])\n",
    "\n",
    "node_trace.marker.color = node_adjacencies\n",
    "node_trace.text = node_text"
   ]
  },
  {
   "cell_type": "code",
   "execution_count": 31,
   "metadata": {},
   "outputs": [
    {
     "data": {
      "text/plain": [
       "'temp-plot.html'"
      ]
     },
     "execution_count": 31,
     "metadata": {},
     "output_type": "execute_result"
    }
   ],
   "source": [
    "fig = go.Figure(\n",
    "    data=[edge_trace, node_trace, invisible_similarity_trace],\n",
    "    layout=go.Layout(\n",
    "        title='Network Graph of Word Embeddings',\n",
    "        template='plotly_dark',\n",
    "        titlefont_size=20,\n",
    "        showlegend=False,\n",
    "        hovermode='closest',\n",
    "        margin=dict(b=20,l=5,r=5,t=40),\n",
    "        annotations=[\n",
    "            dict(\n",
    "                text=\"Adapted from: <a href='https://plotly.com/ipython-notebooks/network-graphs/'> https://plotly.com/ipython-notebooks/network-graphs/</a>\",\n",
    "                showarrow=False,\n",
    "                xref=\"paper\", yref=\"paper\",\n",
    "                x=0.005, y=-0.002 ) \n",
    "        ],\n",
    "        xaxis=dict(showgrid=False, zeroline=False, showticklabels=False),\n",
    "        yaxis=dict(showgrid=False, zeroline=False, showticklabels=False)\n",
    "    )\n",
    ")\n",
    "\n",
    "plot(fig)"
   ]
  },
  {
   "cell_type": "code",
   "execution_count": null,
   "metadata": {},
   "outputs": [],
   "source": []
  }
 ],
 "metadata": {
  "kernelspec": {
   "display_name": "Python 3",
   "language": "python",
   "name": "python3"
  },
  "language_info": {
   "codemirror_mode": {
    "name": "ipython",
    "version": 3
   },
   "file_extension": ".py",
   "mimetype": "text/x-python",
   "name": "python",
   "nbconvert_exporter": "python",
   "pygments_lexer": "ipython3",
   "version": "3.6.9"
  }
 },
 "nbformat": 4,
 "nbformat_minor": 4
}
