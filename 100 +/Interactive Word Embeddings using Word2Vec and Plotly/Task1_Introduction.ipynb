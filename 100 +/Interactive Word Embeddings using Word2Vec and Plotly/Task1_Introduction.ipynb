{
 "cells": [
  {
   "cell_type": "markdown",
   "metadata": {},
   "source": [
    "# Interactive Recommendation System with Word Embeddings using Word2Vec, Plotly, and NetworkX\n",
    "Welcome to this project! We will be exploring how to build a model that can understand words in a mathematical way, such that words with similar meaninings that share certain charactertics belong close to each other in vector space. That's a fancy way of saying that the mathemical representations for words that have some similar meaning are close to each other, and words that don't share a lot of meaning are further apart. We will show that this model can be adapted to be used in a recommendation system, or as a discovery tool (i.e. we don't have this in stock, maybe you'd like this alternative?).\n",
    "\n",
    "## Prerequisites\n",
    "- Basic-to-intermediate level understanding of Python (list comprehensions, dictionary structure, etc.).\n",
    "- Understanding of basic mathematical principles (what a vector is, for example).\n",
    "- Basic understanding of machine learning, although we will go over and introduce a lot at a beginner-level.\n",
    "\n",
    "## Project Breakdown\n",
    "- Task 1: Introduction (you are here)\n",
    "- Task 2: Exploratory Data Analysis and Preprocessing\n",
    "- Task 3: Word2Vec with Gensim\n",
    "- Task 4: Exploring Results\n",
    "- Task 5: Building and Visualizing Interactive Network Graph\n",
    "\n",
    "## Task 1: Introduction\n",
    "We will be using a recipe dataset, to train a model to learn the interactions between different kind of ingredients and available products in a supermarket. This model can then be implemented in a number of different ways, for example,\n",
    "- to recommend products based on items added to cart;\n",
    "- to offer alternatives products based on stock;\n",
    "- to discover new products to create different recipes.\n",
    "\n",
    "\n",
    "### Sample\n",
    "*Herb Rubbed Sirloin Tip Roast*\n",
    "\n",
    "- 1 1/4 tablespoons paprika\n",
    "- 1 tablespoon kosher salt\n",
    "- 1 teaspoon garlic powder\n",
    "- 1/2 teaspoon ground black pepper\n",
    "- 1/2 teaspoon onion powder\n",
    "- 1/2 teaspoon ground cayenne pepper\n",
    "- 1/2 teaspoon dried oregano\n",
    "- 1/2 teaspoon dried thyme\n",
    "- 2 tablespoons olive oil\n",
    "- 1 (3 pound) sirloin tip roast\n",
    "\n",
    "In a small bowl, mix the paprika, kosher salt, garlic powder, black pepper, onion powder, cayenne pepper, oregano, and thyme. Stir in the olive oil, and allow the mixture to sit about 15 minutes.\n",
    "\n",
    "Preheat oven to 350 degrees F (175 degrees C). Line a baking sheet with aluminum foil.\n",
    "\n",
    "Place the roast on the prepared baking sheet, and cover on all sides with the spice mixture.\n",
    "\n",
    "Roast 1 hour in the preheated oven, or to a minimum internal temperature of 145 degrees F (63 degrees C). Let sit 15 minutes before slicing.\n",
    "\n",
    "### Let's take a look at a demo!\n",
    "\n",
    "[Click here!](Data/demo.html)"
   ]
  },
  {
   "cell_type": "code",
   "execution_count": null,
   "metadata": {},
   "outputs": [],
   "source": []
  }
 ],
 "metadata": {
  "kernelspec": {
   "display_name": "Python 3",
   "language": "python",
   "name": "python3"
  },
  "language_info": {
   "codemirror_mode": {
    "name": "ipython",
    "version": 3
   },
   "file_extension": ".py",
   "mimetype": "text/x-python",
   "name": "python",
   "nbconvert_exporter": "python",
   "pygments_lexer": "ipython3",
   "version": "3.6.9"
  }
 },
 "nbformat": 4,
 "nbformat_minor": 4
}
