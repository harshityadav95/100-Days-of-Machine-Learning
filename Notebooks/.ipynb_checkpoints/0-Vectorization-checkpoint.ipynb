{
 "cells": [
  {
   "cell_type": "markdown",
   "metadata": {},
   "source": [
    "# Snippet 1"
   ]
  },
  {
   "cell_type": "code",
   "execution_count": 2,
   "metadata": {},
   "outputs": [],
   "source": [
    "import numpy as np"
   ]
  },
  {
   "cell_type": "code",
   "execution_count": 2,
   "metadata": {},
   "outputs": [
    {
     "name": "stdout",
     "output_type": "stream",
     "text": [
      "[1 2 3 4 5]\n"
     ]
    }
   ],
   "source": [
    "a=np.array([1,2,3,4,5])\n",
    "print(a)\n"
   ]
  },
  {
   "cell_type": "code",
   "execution_count": 14,
   "metadata": {},
   "outputs": [
    {
     "name": "stdout",
     "output_type": "stream",
     "text": [
      "(5, 1)\n",
      "[[ 0.35435883]\n",
      " [ 0.53314408]\n",
      " [ 0.27202247]\n",
      " [ 0.22372184]\n",
      " [-0.47670645]]\n",
      "[[ 0.35435883  0.53314408  0.27202247  0.22372184 -0.47670645]]\n",
      "[[ 0.12557018  0.18892431  0.09639356  0.07927781 -0.16892514]\n",
      " [ 0.18892431  0.28424261  0.14502717  0.11927597 -0.25415322]\n",
      " [ 0.09639356  0.14502717  0.07399622  0.06085737 -0.12967486]\n",
      " [ 0.07927781  0.11927597  0.06085737  0.05005146 -0.10664964]\n",
      " [-0.16892514 -0.25415322 -0.12967486 -0.10664964  0.22724904]]\n"
     ]
    }
   ],
   "source": [
    "# Dimensions of the Matrix with the array\n",
    "b=np.random.randn(5,1)\n",
    "print(b.shape)\n",
    "print(b)\n",
    "# how to transpose the Matrix\n",
    "print(b.T)\n",
    "print(np.dot(b,b.T))\n"
   ]
  },
  {
   "cell_type": "markdown",
   "metadata": {},
   "source": [
    "# Vectors vs Normal Product"
   ]
  },
  {
   "cell_type": "code",
   "execution_count": 4,
   "metadata": {},
   "outputs": [
    {
     "name": "stdout",
     "output_type": "stream",
     "text": [
      "Vectorised28.946399688720703ms\n"
     ]
    }
   ],
   "source": [
    "#vectors\n",
    "import time\n",
    "a=np.random.rand(1000000)\n",
    "b=np.random.rand(1000000)\n",
    "\n",
    "tic=time.time()\n",
    "c=np.dot(a,b)\n",
    "toc=time.time()\n",
    "print(\"Vectorised\"+ str(1000*(toc-tic))+\"ms\")\n"
   ]
  },
  {
   "cell_type": "code",
   "execution_count": 5,
   "metadata": {},
   "outputs": [
    {
     "name": "stdout",
     "output_type": "stream",
     "text": [
      "Vectorised968.2588577270508ms\n"
     ]
    }
   ],
   "source": [
    "c=0\n",
    "tic=time.time()\n",
    "for i in range(1000000):\n",
    "    c+=a[i]*b[i]\n",
    "toc=time.time()\n",
    "print(\"Vectorised\"+ str(1000*(toc-tic))+\"ms\")"
   ]
  },
  {
   "cell_type": "markdown",
   "metadata": {},
   "source": [
    "- Vectorised Version runs min of 200x faster"
   ]
  },
  {
   "cell_type": "code",
   "execution_count": null,
   "metadata": {},
   "outputs": [],
   "source": []
  }
 ],
 "metadata": {
  "kernelspec": {
   "display_name": "Python 3",
   "language": "python",
   "name": "python3"
  },
  "language_info": {
   "codemirror_mode": {
    "name": "ipython",
    "version": 3
   },
   "file_extension": ".py",
   "mimetype": "text/x-python",
   "name": "python",
   "nbconvert_exporter": "python",
   "pygments_lexer": "ipython3",
   "version": "3.7.6"
  }
 },
 "nbformat": 4,
 "nbformat_minor": 4
}
